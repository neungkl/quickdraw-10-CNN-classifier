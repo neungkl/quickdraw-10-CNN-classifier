{
 "cells": [
  {
   "cell_type": "code",
   "execution_count": 1,
   "metadata": {
    "collapsed": true
   },
   "outputs": [],
   "source": [
    "import tensorflow as tf\n",
    "import os\n",
    "import numpy as np\n",
    "import matplotlib.pyplot as plt\n",
    "import pickle\n",
    "%matplotlib inline\n",
    "\n",
    "cwd = os.getcwd()"
   ]
  },
  {
   "cell_type": "code",
   "execution_count": 4,
   "metadata": {
    "collapsed": true
   },
   "outputs": [],
   "source": [
    "img_rows, img_cols = 28, 28\n",
    "\n",
    "data_dir = os.path.join(cwd, \"..\", \"data\")\n",
    "model_dir = os.path.join(cwd, \"..\", \"model\")\n",
    "LABELS = np.array(\n",
    "    map(\n",
    "        (lambda x : x.replace(\".npy\", \"\")),\n",
    "        filter(lambda x: x.endswith('.npy'), os.listdir(data_dir))\n",
    "    )\n",
    ")\n",
    "\n",
    "num_classes = len(LABELS)"
   ]
  },
  {
   "cell_type": "code",
   "execution_count": 3,
   "metadata": {
    "collapsed": true
   },
   "outputs": [],
   "source": [
    "def data_prepare():\n",
    "    datas_path = filter(lambda x: x.endswith('.npy'), os.listdir(data_dir))\n",
    "    dataset = np.array([]).reshape(0, img_rows * img_cols + 1)\n",
    "    \n",
    "    for i, d_path in enumerate(datas_path):\n",
    "        data = np.load(os.path.join(data_dir, d_path))\n",
    "        image_size = len(data)\n",
    "        label = np.ones(image_size, dtype=int) * i\n",
    "        data = np.concatenate((label[:, np.newaxis], data), axis=1)\n",
    "        \n",
    "        np.random.shuffle(data)\n",
    "\n",
    "        dataset = np.append(dataset, data[0:5000], axis=0)\n",
    "        print(\"Load {}\".format(d_path))\n",
    "    \n",
    "    np.random.shuffle(dataset)\n",
    "    dataset_len = len(dataset)\n",
    "    split_x = (int)(dataset_len * 0.9)\n",
    "    \n",
    "    print(\"Dataset {} images\".format(dataset_len))\n",
    "    print(\"Train {} images\".format(split_x))\n",
    "    print(\"Test {} images\".format(dataset_len - split_x))\n",
    "    \n",
    "    print(\"Write data to pickle files...\")\n",
    "    \n",
    "    pickle.dump(dataset[0:split_x], open(os.path.join(data_dir, \"train.pickle\"), \"wb\"))\n",
    "    pickle.dump(dataset[split_x:-1], open(os.path.join(data_dir, \"test.pickle\"), \"wb\"))\n",
    "    \n",
    "    print(\"Finish\")\n",
    "\n",
    "if not os.path.exists(os.path.join(data_dir, \"train.pickle\")):\n",
    "    print(\"Prepare pickle data\")\n",
    "    data_prepare()"
   ]
  },
  {
   "cell_type": "code",
   "execution_count": 15,
   "metadata": {},
   "outputs": [
    {
     "name": "stdout",
     "output_type": "stream",
     "text": [
      "Load dataset complete\n"
     ]
    }
   ],
   "source": [
    "x_train = None\n",
    "y_train = None\n",
    "x_test = None\n",
    "y_test = None\n",
    "\n",
    "def load_dataset():\n",
    "    global x_train, y_train, x_test, y_test\n",
    "    train_data = pickle.load(open(os.path.join(data_dir, \"train.pickle\"), \"rb\"))\n",
    "    test_data = pickle.load(open(os.path.join(data_dir, \"test.pickle\"), \"rb\"))\n",
    "    x_train = train_data[:,1:]\n",
    "    y_train = train_data[:,0]\n",
    "    x_test = test_data[:,1:]\n",
    "    y_test = test_data[:,0]\n",
    "    print(\"Load dataset complete\")\n",
    "\n",
    "load_dataset()"
   ]
  },
  {
   "cell_type": "code",
   "execution_count": null,
   "metadata": {
    "collapsed": true
   },
   "outputs": [],
   "source": [
    "for i in range(10):\n",
    "    plt.imshow(x_train[i].reshape(28,28))\n",
    "    plt.title(LABELS[(int)(y_train[i])])\n",
    "    plt.show()"
   ]
  },
  {
   "cell_type": "markdown",
   "metadata": {},
   "source": [
    "### Data Prepossing"
   ]
  },
  {
   "cell_type": "code",
   "execution_count": 2,
   "metadata": {},
   "outputs": [
    {
     "name": "stderr",
     "output_type": "stream",
     "text": [
      "Using TensorFlow backend.\n"
     ]
    }
   ],
   "source": [
    "import keras\n",
    "from keras.models import Sequential\n",
    "from keras.layers import Dense, Dropout, Flatten\n",
    "from keras.layers import Conv2D, MaxPooling2D"
   ]
  },
  {
   "cell_type": "code",
   "execution_count": 16,
   "metadata": {},
   "outputs": [
    {
     "name": "stdout",
     "output_type": "stream",
     "text": [
      "(45000, 28, 28, 1)\n",
      "(45000, 10)\n",
      "(4999, 28, 28, 1)\n",
      "(4999, 10)\n"
     ]
    }
   ],
   "source": [
    "x_train = x_train.astype('float32')\n",
    "x_test = x_test.astype('float32')\n",
    "x_train /= 255\n",
    "x_test /= 255\n",
    "x_train = x_train.reshape(x_train.shape[0], img_rows, img_cols, 1)\n",
    "x_test = x_test.reshape(x_test.shape[0], img_rows, img_cols, 1)\n",
    "\n",
    "y_train_onehot = keras.utils.to_categorical(y_train, num_classes)\n",
    "y_test_onehot = keras.utils.to_categorical(y_test, num_classes)\n",
    "\n",
    "print(x_train.shape)\n",
    "print(y_train_onehot.shape)\n",
    "print(x_test.shape)\n",
    "print(y_test_onehot.shape)"
   ]
  },
  {
   "cell_type": "markdown",
   "metadata": {},
   "source": [
    "### Model"
   ]
  },
  {
   "cell_type": "code",
   "execution_count": 20,
   "metadata": {},
   "outputs": [
    {
     "name": "stdout",
     "output_type": "stream",
     "text": [
      "Epoch 1/3\n",
      "45000/45000 [==============================] - 349s - loss: 0.6901 - acc: 0.7894   \n",
      "Epoch 2/3\n",
      "45000/45000 [==============================] - 329s - loss: 0.3673 - acc: 0.8942   \n",
      "Epoch 3/3\n",
      "45000/45000 [==============================] - 364s - loss: 0.3185 - acc: 0.9070   \n"
     ]
    }
   ],
   "source": [
    "model = Sequential()\n",
    "\n",
    "model.add(Conv2D(32, kernel_size=(3, 3), padding='same', activation='relu', input_shape=(img_rows, img_cols, 1)))\n",
    "model.add(MaxPooling2D(pool_size=(2, 2)))\n",
    "model.add(Conv2D(64, kernel_size=(3, 3), padding='same', activation='relu'))\n",
    "model.add(Conv2D(64, kernel_size=(3, 3), padding='same', activation='relu'))\n",
    "model.add(MaxPooling2D(pool_size=(2, 2)))\n",
    "model.add(Dropout(0.25))\n",
    "model.add(Conv2D(128, kernel_size=(3, 3), padding='same', activation='relu'))\n",
    "model.add(Conv2D(128, kernel_size=(3, 3), padding='same', activation='relu'))\n",
    "model.add(MaxPooling2D(pool_size=(2, 2)))\n",
    "model.add(Dropout(0.25))\n",
    "model.add(Flatten())\n",
    "model.add(Dense(256, activation='relu'))\n",
    "model.add(Dense(256, activation='relu'))\n",
    "model.add(Dropout(0.5))\n",
    "model.add(Dense(num_classes, activation='softmax'))\n",
    "\n",
    "model.compile(\n",
    "    loss=keras.losses.categorical_crossentropy,\n",
    "    optimizer=keras.optimizers.Adadelta(),\n",
    "    metrics=['accuracy']\n",
    ")\n",
    "\n",
    "model.fit(\n",
    "    x_train, y_train_onehot,\n",
    "    batch_size = 32,\n",
    "    epochs = 3,\n",
    "    verbose = 1\n",
    ")\n",
    "\n",
    "model.save(os.path.join(model_dir, 'model.h5'))"
   ]
  },
  {
   "cell_type": "code",
   "execution_count": 17,
   "metadata": {},
   "outputs": [
    {
     "name": "stdout",
     "output_type": "stream",
     "text": [
      "4992/4999 [============================>.] - ETA: 0s\n",
      "Accuracy 0.920384076815\n"
     ]
    }
   ],
   "source": [
    "model = keras.models.load_model(os.path.join(model_dir, 'model-1.h5'))\n",
    "\n",
    "score = model.evaluate(x_test, y_test_onehot, verbose = 1)\n",
    "print(\"\\nAccuracy {}\".format(score[1]))"
   ]
  },
  {
   "cell_type": "code",
   "execution_count": 32,
   "metadata": {},
   "outputs": [
    {
     "name": "stdout",
     "output_type": "stream",
     "text": [
      "[[404   0  16   5   1  12   1   1  28   4]\n",
      " [  2 438   2   2   1  12   0   3   8   5]\n",
      " [ 15   1 478   0   2   0   0   0   9   0]\n",
      " [  4   2   5 456   2  13   3   5   9   9]\n",
      " [ 12   6   6   3 418  11   1  12  20   5]\n",
      " [  4   1   0   5   0 457   1   6   7  12]\n",
      " [  5   1   1   5   0   8 513   1   5   1]\n",
      " [  1   1   0   3   2   7   0 473   1   1]\n",
      " [ 16   1   5   0   0   3   2   0 476   2]\n",
      " [  4   1   0   8   0  10   0   5   4 488]]\n"
     ]
    },
    {
     "data": {
      "image/png": "[encoded data removed]",
      "text/plain": [
       "<matplotlib.figure.Figure at 0x7f56cc0da090>"
      ]
     },
     "metadata": {},
     "output_type": "display_data"
    }
   ],
   "source": [
    "from sklearn.metrics import confusion_matrix\n",
    "\n",
    "# y_pred = np.argmax(model.predict(x_test, verbose=1), axis=1)\n",
    "confusion_matrix = confusion_matrix(y_test.astype(int), y_pred)\n",
    "\n",
    "print(confusion_matrix)\n",
    "\n",
    "plt.imshow(confusion_matrix, interpolation='nearest')\n",
    "plt.xticks(np.arange(0,num_classes), LABELS, rotation=90)\n",
    "plt.yticks(np.arange(0,num_classes), LABELS)\n",
    "\n",
    "plt.show()"
   ]
  }
 ],
 "metadata": {
  "kernelspec": {
   "display_name": "Python 2",
   "language": "python",
   "name": "python2"
  },
  "language_info": {
   "codemirror_mode": {
    "name": "ipython",
    "version": 2
   },
   "file_extension": ".py",
   "mimetype": "text/x-python",
   "name": "python",
   "nbconvert_exporter": "python",
   "pygments_lexer": "ipython2",
   "version": "2.7.12"
  }
 },
 "nbformat": 4,
 "nbformat_minor": 2
}
