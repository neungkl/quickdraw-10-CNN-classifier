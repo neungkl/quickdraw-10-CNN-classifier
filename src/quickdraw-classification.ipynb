{
 "cells": [
  {
   "cell_type": "code",
   "execution_count": 1,
   "metadata": {
    "collapsed": true
   },
   "outputs": [],
   "source": [
    "import tensorflow as tf\n",
    "import os\n",
    "import numpy as np\n",
    "import matplotlib.pyplot as plt\n",
    "import pickle\n",
    "%matplotlib inline\n",
    "\n",
    "cwd = os.getcwd()"
   ]
  },
  {
   "cell_type": "code",
   "execution_count": 2,
   "metadata": {
    "collapsed": true
   },
   "outputs": [],
   "source": [
    "img_rows, img_cols = 28, 28\n",
    "\n",
    "data_dir = os.path.join(cwd, \"..\", \"data\")\n",
    "model_dir = os.path.join(cwd, \"..\", \"model\")\n",
    "LABELS = np.array(\n",
    "    map(\n",
    "        (lambda x : x.replace(\".npy\", \"\")),\n",
    "        filter(lambda x: x.endswith('.npy'), os.listdir(data_dir))\n",
    "    )\n",
    ")\n",
    "\n",
    "num_classes = len(LABELS)"
   ]
  },
  {
   "cell_type": "code",
   "execution_count": 3,
   "metadata": {
    "collapsed": true
   },
   "outputs": [],
   "source": [
    "def data_prepare():\n",
    "    datas_path = filter(lambda x: x.endswith('.npy'), os.listdir(data_dir))\n",
    "    dataset = np.array([]).reshape(0, img_rows * img_cols + 1)\n",
    "    \n",
    "    for i, d_path in enumerate(datas_path):\n",
    "        data = np.load(os.path.join(data_dir, d_path))\n",
    "        image_size = len(data)\n",
    "        label = np.ones(image_size, dtype=int) * i\n",
    "        data = np.concatenate((label[:, np.newaxis], data), axis=1)\n",
    "        \n",
    "        np.random.shuffle(data)\n",
    "\n",
    "        dataset = np.append(dataset, data[0:5000], axis=0)\n",
    "        print(\"Load {}\".format(d_path))\n",
    "    \n",
    "    np.random.shuffle(dataset)\n",
    "    dataset_len = len(dataset)\n",
    "    split_x = (int)(dataset_len * 0.9)\n",
    "    \n",
    "    print(\"Dataset {} images\".format(dataset_len))\n",
    "    print(\"Train {} images\".format(split_x))\n",
    "    print(\"Test {} images\".format(dataset_len - split_x))\n",
    "    \n",
    "    print(\"Write data to pickle files...\")\n",
    "    \n",
    "    pickle.dump(dataset[0:split_x], open(os.path.join(data_dir, \"train.pickle\"), \"wb\"))\n",
    "    pickle.dump(dataset[split_x:-1], open(os.path.join(data_dir, \"test.pickle\"), \"wb\"))\n",
    "    \n",
    "    print(\"Finish\")\n",
    "\n",
    "if not os.path.exists(os.path.join(data_dir, \"train.pickle\")):\n",
    "    print(\"Prepare pickle data\")\n",
    "    data_prepare()"
   ]
  },
  {
   "cell_type": "code",
   "execution_count": 4,
   "metadata": {},
   "outputs": [
    {
     "name": "stdout",
     "output_type": "stream",
     "text": [
      "Load dataset complete\n"
     ]
    }
   ],
   "source": [
    "x_train = None\n",
    "y_train = None\n",
    "x_test = None\n",
    "y_test = None\n",
    "\n",
    "def load_dataset():\n",
    "    global x_train, y_train, x_test, y_test\n",
    "    train_data = pickle.load(open(os.path.join(data_dir, \"train.pickle\"), \"rb\"))\n",
    "    test_data = pickle.load(open(os.path.join(data_dir, \"test.pickle\"), \"rb\"))\n",
    "    x_train = train_data[:,1:]\n",
    "    y_train = train_data[:,0]\n",
    "    x_test = test_data[:,1:]\n",
    "    y_test = test_data[:,0]\n",
    "    print(\"Load dataset complete\")\n",
    "\n",
    "load_dataset()"
   ]
  },
  {
   "cell_type": "code",
   "execution_count": null,
   "metadata": {
    "collapsed": true
   },
   "outputs": [],
   "source": [
    "for i in range(10):\n",
    "    plt.imshow(x_train[i].reshape(28,28))\n",
    "    plt.title(LABELS[(int)(y_train[i])])\n",
    "    plt.show()"
   ]
  },
  {
   "cell_type": "markdown",
   "metadata": {},
   "source": [
    "### Data Prepossing"
   ]
  },
  {
   "cell_type": "code",
   "execution_count": 6,
   "metadata": {},
   "outputs": [
    {
     "name": "stderr",
     "output_type": "stream",
     "text": [
      "Using TensorFlow backend.\n"
     ]
    }
   ],
   "source": [
    "import keras\n",
    "from keras.models import Sequential\n",
    "from keras.layers import Dense, Dropout, Flatten\n",
    "from keras.layers import Conv2D, MaxPooling2D"
   ]
  },
  {
   "cell_type": "code",
   "execution_count": 7,
   "metadata": {},
   "outputs": [
    {
     "name": "stdout",
     "output_type": "stream",
     "text": [
      "(45000, 28, 28, 1)\n",
      "(45000, 10)\n",
      "(4999, 28, 28, 1)\n",
      "(4999, 10)\n"
     ]
    }
   ],
   "source": [
    "x_train = x_train.astype('float32')\n",
    "x_test = x_test.astype('float32')\n",
    "x_train /= 255\n",
    "x_test /= 255\n",
    "x_train = x_train.reshape(x_train.shape[0], img_rows, img_cols, 1)\n",
    "x_test = x_test.reshape(x_test.shape[0], img_rows, img_cols, 1)\n",
    "\n",
    "y_train = keras.utils.to_categorical(y_train, num_classes)\n",
    "y_test = keras.utils.to_categorical(y_test, num_classes)\n",
    "\n",
    "print(x_train.shape)\n",
    "print(y_train.shape)\n",
    "print(x_test.shape)\n",
    "print(y_test.shape)"
   ]
  },
  {
   "cell_type": "markdown",
   "metadata": {},
   "source": [
    "### Model"
   ]
  },
  {
   "cell_type": "code",
   "execution_count": null,
   "metadata": {},
   "outputs": [
    {
     "name": "stdout",
     "output_type": "stream",
     "text": [
      "Epoch 1/2\n",
      "45000/45000 [==============================] - 164s - loss: 0.6864 - acc: 0.7894   \n",
      "Epoch 2/2\n",
      "36448/45000 [=======================>......] - ETA: 29s - loss: 0.4005 - acc: 0.8849"
     ]
    }
   ],
   "source": [
    "model = Sequential()\n",
    "\n",
    "model.add(Conv2D(32, kernel_size=(3, 3), activation='relu', input_shape=(img_rows, img_cols, 1)))\n",
    "model.add(MaxPooling2D(pool_size=(2, 2)))\n",
    "model.add(Conv2D(64, kernel_size=(3, 3), activation='relu'))\n",
    "model.add(Conv2D(64, kernel_size=(3, 3), activation='relu'))\n",
    "model.add(Conv2D(64, kernel_size=(3, 3), activation='relu'))\n",
    "model.add(MaxPooling2D(pool_size=(2, 2)))\n",
    "model.add(Dropout(0.25))\n",
    "model.add(Flatten())\n",
    "model.add(Dense(256, activation='relu'))\n",
    "model.add(Dense(256, activation='relu'))\n",
    "model.add(Dropout(0.5))\n",
    "model.add(Dense(num_classes, activation='softmax'))\n",
    "\n",
    "model.compile(\n",
    "    loss=keras.losses.categorical_crossentropy,\n",
    "    optimizer=keras.optimizers.Adadelta(),\n",
    "    metrics=['accuracy']\n",
    ")\n",
    "\n",
    "model.fit(\n",
    "    x_train, y_train,\n",
    "    batch_size = 32,\n",
    "    epochs = 2,\n",
    "    verbose = 1\n",
    ")\n",
    "\n",
    "model.save(os.path.join(model_dir, 'model.h5'))"
   ]
  },
  {
   "cell_type": "code",
   "execution_count": 13,
   "metadata": {},
   "outputs": [
    {
     "name": "stdout",
     "output_type": "stream",
     "text": [
      "4992/4999 [============================>.] - ETA: 0s\n",
      "Accuracy 0.893978795759\n"
     ]
    }
   ],
   "source": [
    "model = keras.models.load_model(os.path.join(model_dir, 'model.h5'))\n",
    "\n",
    "score = model.evaluate(x_test, y_test, verbose = 1)\n",
    "print(\"\\nAccuracy {}\".format(score[1]))"
   ]
  }
 ],
 "metadata": {
  "kernelspec": {
   "display_name": "Python 2",
   "language": "python",
   "name": "python2"
  },
  "language_info": {
   "codemirror_mode": {
    "name": "ipython",
    "version": 2
   },
   "file_extension": ".py",
   "mimetype": "text/x-python",
   "name": "python",
   "nbconvert_exporter": "python",
   "pygments_lexer": "ipython2",
   "version": "2.7.12"
  }
 },
 "nbformat": 4,
 "nbformat_minor": 2
}
